{
 "cells": [
  {
   "cell_type": "markdown",
   "metadata": {},
   "source": [
    "# Práctica 2\n",
    "# Alumno: Micheli Dario  - Carrera: CDO\n",
    "\n",
    "---"
   ]
  },
  {
   "cell_type": "markdown",
   "metadata": {},
   "source": [
    "## Actividad 1 - Análisis del Zen de Python\n",
    "*Copie el texto del Zen de Python en una variable e imprima todas las líneas cuya segunda\n",
    "palabra comience con una vocal (A, E, I, O, U, a, e, i, o, u).*"
   ]
  },
  {
   "cell_type": "markdown",
   "metadata": {},
   "source": [
    "Para ver el zen de Python hay que ejecutar lo siguiente:"
   ]
  },
  {
   "cell_type": "code",
   "execution_count": 8,
   "metadata": {},
   "outputs": [],
   "source": [
    "import this"
   ]
  },
  {
   "cell_type": "markdown",
   "metadata": {},
   "source": [
    "Este texto lo guardo en la variable zen_text"
   ]
  },
  {
   "cell_type": "code",
   "execution_count": 4,
   "metadata": {},
   "outputs": [],
   "source": [
    "zen_text=\"\"\"Beautiful is better than ugly.\n",
    "Explicit is better than implicit.\n",
    "Simple is better than complex.\n",
    "Complex is better than complicated.\n",
    "Flat is better than nested.\n",
    "Sparse is better than dense.\n",
    "Readability counts.\n",
    "Special cases aren't special enough to break the rules.\n",
    "Although practicality beats purity.\n",
    "Errors should never pass silently.\n",
    "Unless explicitly silenced.\n",
    "In the face of ambiguity, refuse the temptation to guess.\n",
    "There should be one-- and preferably only one --obvious way to do it.\n",
    "Although that way may not be obvious at first unless you're Dutch.\n",
    "Now is better than never.\n",
    "Although never is often better than *right* now.\n",
    "If the implementation is hard to explain, it's a bad idea.\n",
    "If the implementation is easy to explain, it may be a good idea.\n",
    "Namespaces are one honking great idea -- let's do more of those!\"\"\""
   ]
  },
  {
   "cell_type": "markdown",
   "metadata": {},
   "source": [
    "Defino una función llamada **imprimir_vocal** que recibe como parametro un texto. "
   ]
  },
  {
   "cell_type": "code",
   "execution_count": 9,
   "metadata": {},
   "outputs": [],
   "source": [
    "def imprimir_vocal(text):\n",
    "    sentences = text.split(\".\\n\")\n",
    "    \n",
    "    for sentence in sentences:\n",
    "        words = sentence.split()\n",
    "        if words[1].startswith((\"A\", \"E\", \"I\", \"O\", \"U\", \"a\", \"e\", \"i\", \"o\", \"u\")):\n",
    "            print(sentence)"
   ]
  },
  {
   "cell_type": "markdown",
   "metadata": {},
   "source": [
    "La función primero separa el texto en oraciones y luego cada oración en palabras. Si la segunda palabra de la oración cumple con empezar con una vocal, ya sea mayuscula o miniscula, la imprime por pantalla."
   ]
  },
  {
   "cell_type": "code",
   "execution_count": 10,
   "metadata": {},
   "outputs": [
    {
     "name": "stdout",
     "output_type": "stream",
     "text": [
      "Beautiful is better than ugly\n",
      "Explicit is better than implicit\n",
      "Simple is better than complex\n",
      "Complex is better than complicated\n",
      "Flat is better than nested\n",
      "Sparse is better than dense\n",
      "Unless explicitly silenced\n",
      "Now is better than never\n",
      "Namespaces are one honking great idea -- let's do more of those!\n"
     ]
    }
   ],
   "source": [
    "imprimir_vocal(zen_text)"
   ]
  },
  {
   "cell_type": "markdown",
   "metadata": {},
   "source": [
    "---\n",
    "\n",
    "## Actividad 2 - Título más largo\n",
    "*Dado un listado de títulos de streams en Twitch, encuentre el título con más palabras y muéstrelo en pantalla.*"
   ]
  },
  {
   "cell_type": "code",
   "execution_count": 13,
   "metadata": {},
   "outputs": [],
   "source": [
    "titles = [\n",
    "    \"Speedrun de Super Mario en tiempo récord\",\n",
    "    \"Charla sobre desarrollo de videojuegos\",\n",
    "    \"Jugando al nuevo FPS del momento con amigos\",\n",
    "    \"Música en vivo: improvisaciones al piano\"\n",
    "]"
   ]
  },
  {
   "cell_type": "markdown",
   "metadata": {},
   "source": [
    "Defino una función llamada **imprimir_mas_palabras** que recibe como parametro de entrada una lista de strings"
   ]
  },
  {
   "cell_type": "code",
   "execution_count": 14,
   "metadata": {},
   "outputs": [],
   "source": [
    "def imprimir_mas_palabras(lista):\n",
    "    max = -1\n",
    "    \n",
    "    for i in range(len(lista)):\n",
    "        amount = len(lista[i].split())\n",
    "        if amount > max:\n",
    "            max = amount\n",
    "            pos = i\n",
    "            \n",
    "    print(\"El titulo más largo es: \", lista[pos])"
   ]
  },
  {
   "cell_type": "markdown",
   "metadata": {},
   "source": [
    "La función recorre la lista y por cada oración cuenta la cantidad de palabras que tiene. Si la cantidad es mayor a una variable **max** entonces actualiza el máximo y guarda la posición de esa oración dentro de la lista. Al finalizar el recorrido imprime la oración con más palabras. "
   ]
  },
  {
   "cell_type": "code",
   "execution_count": 15,
   "metadata": {},
   "outputs": [
    {
     "name": "stdout",
     "output_type": "stream",
     "text": [
      "El titulo más largo es:  Jugando al nuevo FPS del momento con amigos\n"
     ]
    }
   ],
   "source": [
    "imprimir_mas_palabras(titles)"
   ]
  },
  {
   "cell_type": "markdown",
   "metadata": {},
   "source": [
    "---\n",
    "\n",
    "## Actividad 3 - Código de conducta\n",
    "*Dado un código de conducta para un servidor de Discord, solicite una palabra clave al usuario e imprima todas las reglas que la contengan.*"
   ]
  },
  {
   "cell_type": "code",
   "execution_count": 16,
   "metadata": {},
   "outputs": [],
   "source": [
    "rules = \"\"\"Respeta a los demás. No se permiten insultos ni lenguaje ofensivo.\n",
    "Evita el spam. No publiques enlaces sospechosos o repetitivos.\n",
    "No compartas información personal.\n",
    "Usa los canales adecuados para cada tema.\n",
    "Sigue las instrucciones de los moderadores.\"\"\""
   ]
  },
  {
   "cell_type": "markdown",
   "metadata": {},
   "source": [
    "Defino una función llamada **imprimir_regla** que recibe como parametro de entrada un **texto** y una **palabra clave**"
   ]
  },
  {
   "cell_type": "code",
   "execution_count": 17,
   "metadata": {},
   "outputs": [],
   "source": [
    "def imprimir_regla(text, keyword):\n",
    "    sentences = text.lower().split(\".\\n\")\n",
    "    \n",
    "    for sentence in sentences:\n",
    "        if keyword.lower() in sentence:\n",
    "            print(sentence.capitalize())"
   ]
  },
  {
   "cell_type": "markdown",
   "metadata": {},
   "source": [
    "Esta función separa el texto en oraciones y luego por cada una de ellas, evalua si la palabra clave se encuentra en la oración con el operador **in**. Si la condición se cumple, la imprime. "
   ]
  },
  {
   "cell_type": "code",
   "execution_count": 19,
   "metadata": {},
   "outputs": [
    {
     "name": "stdin",
     "output_type": "stream",
     "text": [
      "Ingrese una palabra clave:  moderador\n"
     ]
    },
    {
     "name": "stdout",
     "output_type": "stream",
     "text": [
      "Sigue las instrucciones de los moderadores.\n"
     ]
    }
   ],
   "source": [
    "keyword=input(\"Ingrese una palabra clave: \")\n",
    "imprimir_regla(rules, keyword)"
   ]
  },
  {
   "cell_type": "markdown",
   "metadata": {},
   "source": [
    "---\n",
    "\n",
    "## Actividad 4 - Validación de nombre de usuario\n",
    "Valide un nombre de usuario con los siguientes criterios:\n",
    "* Al menos 5 caracteres.\n",
    "* Contiene al menos un número.\n",
    "* Contiene al menos una letra mayúscula.\n",
    "* Solo puede contener letras y números.\n"
   ]
  },
  {
   "cell_type": "markdown",
   "metadata": {},
   "source": [
    "Defino una función llamada **validate_username** que recibe como parametro entrada un nombre de usuario"
   ]
  },
  {
   "cell_type": "code",
   "execution_count": 18,
   "metadata": {},
   "outputs": [],
   "source": [
    "import string\n",
    "\n",
    "def validate_username(username):\n",
    "    if len(username) < 5:\n",
    "        return False\n",
    "\n",
    "    if not any(c.isdigit() for c in username):\n",
    "        return False\n",
    "\n",
    "    if not any(c in string.ascii_uppercase for c in username):\n",
    "        return False\n",
    "\n",
    "    if not username.isalnum():\n",
    "        return False\n",
    "\n",
    "    return True"
   ]
  },
  {
   "cell_type": "markdown",
   "metadata": {},
   "source": [
    "Esta función devuelve **True** solo en el caso de que hayan pasado todas las validaciones. \n",
    "* En primer lugar, verifica la longitud del nombre de usuario con el metodo **len()**.\n",
    "* Luego, recorre cada caracter del username y pregunta si es un dígito con el metodo **isdigit()**, si no hay aunque sea uno, retorna falso. Esto se logra negando el metodo **any()**.\n",
    "* Algo similar se realiza con el siguiente if, donde por c/caracter se pregunta si esta dentro del conjunto de letras mayusculas (**string.ascci_uppercase**)\n",
    "* Por último, con el metodo **isalnum()** se valida si el string es alfanumerico. "
   ]
  },
  {
   "cell_type": "code",
   "execution_count": 21,
   "metadata": {},
   "outputs": [
    {
     "name": "stdin",
     "output_type": "stream",
     "text": [
      "Ingrese un nombre de usuario: adas\n"
     ]
    },
    {
     "name": "stdout",
     "output_type": "stream",
     "text": [
      "El nombre de usuario no cumple con los requisitos\n"
     ]
    }
   ],
   "source": [
    "username=input(\"Ingrese un nombre de usuario:\")\n",
    "\n",
    "if validate_username(username):\n",
    "    print(\"El nombre de usuario es valido\")\n",
    "else:\n",
    "    print(\"El nombre de usuario no cumple con los requisitos\")"
   ]
  },
  {
   "cell_type": "markdown",
   "metadata": {},
   "source": [
    "---\n",
    "\n",
    "## Actividad 5 - Clasificación de velocidad de reacción en un juego\n",
    "Dado el tiempo de reacción de un jugador en milisegundos, clasifíquelo en las siguientes categorías:\n",
    "* Menos de 200 ms: Rápido\n",
    "* Entre 200 y 500 ms: Normal\n",
    "* Más de 500 ms: Lento"
   ]
  },
  {
   "cell_type": "markdown",
   "metadata": {},
   "source": [
    "Defino una función **clasification** que recibe como parametro de entrada un tiempo"
   ]
  },
  {
   "cell_type": "code",
   "execution_count": 30,
   "metadata": {},
   "outputs": [],
   "source": [
    "def clasification(time):\n",
    "    time=int(time)\n",
    "    \n",
    "    if time < 0:\n",
    "        return \"Error! El tiempo tiene que ser mayor a 0\"\n",
    "    \n",
    "    if time < 200:\n",
    "        return \"Rápido\"\n",
    "        \n",
    "    if 200 <= time <= 1000:\n",
    "        return \"Normal\"\n",
    "        \n",
    "    return \"Lento\""
   ]
  },
  {
   "cell_type": "markdown",
   "metadata": {},
   "source": [
    "La función transforma lo recibido como parametro de entrada en un **entero** con el método **int()** y luego mediante una serie de if determina cual es la categoria a devolver. Un mejora que se podría aplicar a esta función es el manejo de excepciones por si lo recibido no puede transformarse a un integer."
   ]
  },
  {
   "cell_type": "code",
   "execution_count": 35,
   "metadata": {},
   "outputs": [
    {
     "name": "stdin",
     "output_type": "stream",
     "text": [
      "Ingrese su tiempo de reacción: 36\n"
     ]
    },
    {
     "name": "stdout",
     "output_type": "stream",
     "text": [
      "Categoria: Rápido\n"
     ]
    }
   ],
   "source": [
    "print(f\"Categoria: {clasification(input(\"Ingrese su tiempo de reacción:\"))}\")"
   ]
  },
  {
   "cell_type": "markdown",
   "metadata": {},
   "source": [
    "---\n",
    "\n",
    "## Actividad 6 - Análisis de descripciones de una plataforma de stream\n",
    "*Dadas varias descripciones de streams en Twitch, cuente cuántas menciones hay de \"entretenimiento\", \"música\" y \"charla\".*"
   ]
  },
  {
   "cell_type": "code",
   "execution_count": 31,
   "metadata": {},
   "outputs": [],
   "source": [
    "descriptions = [\n",
    "    \"Streaming de música en vivo con covers y composiciones\",\n",
    "    \"Charla interactiva con la audiencia sobre series y películas\",\n",
    "    \"Jugamos a juegos retro y charlamos sobre su historia\",\n",
    "    \"Exploramos la mejor música de los 80s y 90s\",\n",
    "    \"Programa de entretenimiento con noticias y curiosidades del mundo gamer\",\n",
    "    \"Sesión de charla con invitados especiales del mundo del streaming\",\n",
    "    \"Música en directo con improvisaciones y peticiones del chat\",\n",
    "    \"Un espacio para charlar relajada sobre tecnología y cultura digital\",\n",
    "    \"Exploramos el impacto de la música en los videojuegos clásicos\"\n",
    "]"
   ]
  },
  {
   "cell_type": "markdown",
   "metadata": {},
   "source": [
    "Defino una función **count_mentions** que recibe como parametro de entrada una lista de strings"
   ]
  },
  {
   "cell_type": "code",
   "execution_count": 32,
   "metadata": {},
   "outputs": [],
   "source": [
    "def count_mentions(lista):\n",
    "    dic_keyword = {\"música\": 0, \"entretenimiento\": 0, \"charla\": 0}\n",
    "    \n",
    "    for elem in lista:\n",
    "        words = elem.lower().split()\n",
    "        dic_keyword[\"entretenimiento\"] += words.count(\"entretenimiento\")\n",
    "        dic_keyword[\"música\"] += words.count(\"música\")\n",
    "        dic_keyword[\"charla\"] += words.count(\"charla\")\n",
    "        \n",
    "    print(f\"Menciones de 'música': {dic_keyword.get(\"música\")}\\nMenciones de 'charla': {dic_keyword.get(\"charla\")}\\nMenciones de 'entretenimiento': {dic_keyword.get(\"entretenimiento\")}\")"
   ]
  },
  {
   "cell_type": "markdown",
   "metadata": {},
   "source": [
    "En primer lugar se crea un diccionario **dic_keyword** para llevar el conteo de cuantas veces se repite cada palabra pedida en el enunciado. Luego, se recorre la lista recibida, y por cada elemento se hace una lista de palabras que se almacena en **word**. A cada valor del diccionario se le va sumando la cantidad de veces que en la lista aparece \"entretenimiento\", \"música\" y \"charla\" y por último, ser termina imprimiendo por pantalla."
   ]
  },
  {
   "cell_type": "code",
   "execution_count": 37,
   "metadata": {},
   "outputs": [
    {
     "name": "stdout",
     "output_type": "stream",
     "text": [
      "Menciones de 'música': 4\n",
      "Menciones de 'charla': 2\n",
      "Menciones de 'entretenimiento': 1\n"
     ]
    }
   ],
   "source": [
    "count_mentions(descriptions)"
   ]
  },
  {
   "cell_type": "markdown",
   "metadata": {},
   "source": [
    "---\n",
    "\n",
    "## Actividad 7 - Generador de códigos de descuento\n",
    "*Genere un código de descuento aleatorio para un usuario en base a su nombre, la fecha actual y el resto deben ser números o letras aleatorias. El código debe tener una longitud de 30 caracteres, todas las letras deben ser mayúsculas. El usuario debe ingresarse por teclado y debe validar que no exeda los 15 caracteres.*"
   ]
  },
  {
   "cell_type": "markdown",
   "metadata": {},
   "source": [
    "Defino una función **generate_code_discount** que recibe como parametro de entrada un usuario y una fecha. Esta a su vez, llama a otra función llamada **generate_random_string**, la cual recibe un entero como longitud y retorna un string alfanumerico de la longitud solicitada. Y a otra función **validate_username_length** que valida si la longitud del nombre de usuario esta dentro del máximo permitido."
   ]
  },
  {
   "cell_type": "code",
   "execution_count": 46,
   "metadata": {},
   "outputs": [],
   "source": [
    "import random\n",
    "\n",
    "CODE_LENGTH = 30\n",
    "USERNAME_MAX_LENGTH = 15\n",
    "\n",
    "def validate_username_length(username):\n",
    "    return len(username)<USERNAME_MAX_LENGTH\n",
    "\n",
    "def generate_random_string(lenght):\n",
    "    return \"\".join(random.choices(string.ascii_letters + string.digits, k=lenght))\n",
    "\n",
    "def generate_code_discount(username, date):\n",
    "\n",
    "    if not validate_username_length(username):\n",
    "        print(\"El usuario excede los caracteres permitidos\")\n",
    "        return\n",
    "\n",
    "    code = username.upper() + \"-\" + date.replace(\"-\", \"\").upper() + \"-\"\n",
    "    word_amount = len(code)\n",
    "    \n",
    "    if word_amount < CODE_LENGTH:\n",
    "        random_string = generate_random_string(CODE_LENGTH-word_amount)\n",
    "        code += random_string.upper()\n",
    "        \n",
    "    print(f\"Código de descuento: {code}\")"
   ]
  },
  {
   "cell_type": "markdown",
   "metadata": {},
   "source": [
    "La función **generate_code_discount**: \n",
    "1. Valida longitud del username\n",
    "2. Arma la primera parte del código en la variable **code**, concatenando en usuario en mayúscula y fecha sin los \"-\" separadores.\n",
    "3. Cuenta la longitud del code hasta el momento, para luego completarlo hasta llegar a los 30 carácteres.\n",
    "4. Llama a la funcion de **generate_random_string** y concatena lo recibido a **code**{\n",
    "5. Imprime por pantalla el código"
   ]
  },
  {
   "cell_type": "code",
   "execution_count": 47,
   "metadata": {},
   "outputs": [
    {
     "name": "stdin",
     "output_type": "stream",
     "text": [
      "Usuario:  adsad54\n"
     ]
    },
    {
     "name": "stdout",
     "output_type": "stream",
     "text": [
      "Código de descuento: ADSAD54-202100410-TYNTBLWMGCBA\n"
     ]
    }
   ],
   "source": [
    "generate_code_discount(input(\"Usuario: \"), \"20210-04-10\")"
   ]
  },
  {
   "cell_type": "markdown",
   "metadata": {},
   "source": [
    "---\n",
    "\n",
    "## Actividad 8 - Identificación de anagramas \n",
    "*Determine si dos palabras ingresadas son anagramas (contienen las mismas letras en diferente orden).*"
   ]
  },
  {
   "cell_type": "markdown",
   "metadata": {},
   "source": [
    "Defino la función **validate_anagram** que recibe como parametro 2 palabras."
   ]
  },
  {
   "cell_type": "code",
   "execution_count": 49,
   "metadata": {},
   "outputs": [],
   "source": [
    "def validate_anagram(word1, word2):\n",
    "    if len(word1) != len(word2):\n",
    "        return False\n",
    "\n",
    "    return sorted(word1.lower()) == sorted(word2.lower())"
   ]
  },
  {
   "cell_type": "markdown",
   "metadata": {},
   "source": [
    "En primer lugar verifica que tengan la misma longitud. Si no es así, devuelve **False**. Por último, devuelve **TRUE** o **FALSE** si las palabras, ambas en minusculas y ordenadas, son iguales."
   ]
  },
  {
   "cell_type": "code",
   "execution_count": 50,
   "metadata": {},
   "outputs": [
    {
     "name": "stdin",
     "output_type": "stream",
     "text": [
      "Ingrese la primera palabra:  amor\n",
      "Ingrese la segunda palabra:  ramo\n"
     ]
    },
    {
     "name": "stdout",
     "output_type": "stream",
     "text": [
      "Son anagramas\n"
     ]
    }
   ],
   "source": [
    "word1 = input(\"Ingrese la primera palabra: \")\n",
    "word2 = input(\"Ingrese la segunda palabra: \")\n",
    "if validate_anagram(word1, word2):\n",
    "    print(\"Son anagramas\")\n",
    "else:\n",
    "    print(\"No son anagramas\")"
   ]
  },
  {
   "cell_type": "markdown",
   "metadata": {},
   "source": [
    "---\n",
    "\n",
    "## Actividad 9 -  Limpieza de Datos para un Sistema de Clientes\n",
    "*Eres un analista de datos en una empresa que ha recibido una lista de nombres de clientes de distintas fuentes. Sin embargo, estos datos contienen errores, espacios en blanco, nombres repetidos y valores nulos. Tu tarea es desarrollar un sistema que limpie y estandarice estos datos para poder usarlos en el sistema de facturación.*\n",
    "\n",
    "**Datos de entrada**\n",
    "La empresa ha recopilado nombres de clientes desde diferentes formularios, bases de datos y registros manuales. "
   ]
  },
  {
   "cell_type": "markdown",
   "metadata": {},
   "source": [
    "La lista de datos inicial es la siguiente:"
   ]
  },
  {
   "cell_type": "code",
   "execution_count": 51,
   "metadata": {},
   "outputs": [],
   "source": [
    "clients = [\n",
    "    \" Ana López \", \"Pedro Gómez\", \"maria martínez\", \"Pedro Gómez \", \"\",\n",
    "    \" Luis Rodríguez \", None, \"ana lópez\", \"JUAN PÉREZ\", \"MARTA SUÁREZ\",\n",
    "    \"luis rodríguez\", \"maría martínez \", \" claudia torres\", \"CLAUDIA TORRES\",\n",
    "    \" \", \"pedro gómez\", \"Juan Pérez\", None, \"Ricardo Fernández\", \"LAURA RAMOS\",\n",
    "    \"carlos mendes\", \"RICARDO FERNÁNDEZ \", \" Laura ramos\", \"CARLOS MENDES\",\n",
    "    \"alejandro gonzález\", \" ALEJANDRO GONZÁLEZ \", \"Patricia Vega\",\n",
    "    \"patricia VEGA\", \"Andrés Ocampo\", \" andrés ocampo\", \"Monica Herrera\",\n",
    "    \"MONICA HERRERA \", \"gabriela ruíz\", \"Gabriela Ruíz\", \"sandra morales\",\n",
    "    \"SANDRA MORALES\", \"miguel ángel\", \"Miguel Ángel \", \" Damián Castillo\",\n",
    "    \"Damián Castillo \", None, \"\", \" \"\n",
    "]"
   ]
  },
  {
   "cell_type": "markdown",
   "metadata": {},
   "source": [
    "Se pide desarrollar un sistema que permita realizar las siguientes operaciones en los datos.\n",
    "* Eliminar espacios extra en los nombres.\n",
    "* Convertir todos los nombres a formato de título (primera letra en mayúscula y el resto en minúscula).\n",
    "* Eliminar registros duplicados para evitar clientes repetidos.\n",
    "* Eliminar valores vacíos o nulos, ya que no aportan información válida.\n",
    "* Mostrar la lista limpia de clientes listos para usar en el sistema de facturación"
   ]
  },
  {
   "cell_type": "markdown",
   "metadata": {},
   "source": [
    "Defino una función llamada **clean_name** que recibe una lista como parametro de entrada."
   ]
  },
  {
   "cell_type": "code",
   "execution_count": 54,
   "metadata": {},
   "outputs": [],
   "source": [
    "def clean_name(list):\n",
    "    list_names = []\n",
    "    set_names = set()\n",
    "\n",
    "    #Recorro la lista y armo el conjunto de datos con los nombres en mayúscula, sin tener en cuenta los None,\" \" y \"\".\n",
    "    for full_name in list:\n",
    "        if full_name not in (None, \" \", \"\"):\n",
    "            name, surname = full_name.split()\n",
    "            set_names.add(name.lower().capitalize() +\n",
    "                          \" \" + surname.lower().capitalize())\n",
    "            \n",
    "   #Copio los nombres del conjunto a una lista para ordenarlos alfabeticamente.\n",
    "    for full_name in set_names:\n",
    "        list_names.append(full_name)\n",
    "        list_names.sort()\n",
    "\n",
    "    #Imprimo los nombres\n",
    "    print(list_names)"
   ]
  },
  {
   "cell_type": "markdown",
   "metadata": {},
   "source": [
    "La función utiliza para su resolución listas y conjuntos de datos, ya que en el dataset inicial los nombres se repetian. "
   ]
  },
  {
   "cell_type": "code",
   "execution_count": 55,
   "metadata": {},
   "outputs": [
    {
     "name": "stdout",
     "output_type": "stream",
     "text": [
      "['Alejandro González', 'Ana López', 'Andrés Ocampo', 'Carlos Mendes', 'Claudia Torres', 'Damián Castillo', 'Gabriela Ruíz', 'Juan Pérez', 'Laura Ramos', 'Luis Rodríguez', 'Maria Martínez', 'Marta Suárez', 'María Martínez', 'Miguel Ángel', 'Monica Herrera', 'Patricia Vega', 'Pedro Gómez', 'Ricardo Fernández', 'Sandra Morales']\n"
     ]
    }
   ],
   "source": [
    "clean_name(clients)"
   ]
  },
  {
   "cell_type": "markdown",
   "metadata": {},
   "source": [
    "---\n",
    "\n",
    "## Actividad 10 - Simulación de partidas y ranking en shooter online\n",
    "*Simule varias partidas de un juego de disparos y genere un ranking basado en el puntaje total de cada jugador. Se utilizará el siguiente sistema de puntuación:*"
   ]
  },
  {
   "cell_type": "markdown",
   "metadata": {},
   "source": [
    "Acción | Puntos \n",
    "--- | --- \n",
    "Kill | 3\n",
    "Asistencia | 1\n",
    "Muerte | -1"
   ]
  },
  {
   "cell_type": "markdown",
   "metadata": {},
   "source": [
    "Dado el siguiente conjunto de rondas:"
   ]
  },
  {
   "cell_type": "code",
   "execution_count": 21,
   "metadata": {},
   "outputs": [],
   "source": [
    "rounds = [\n",
    "    {\n",
    "        'Shadow': {'kills': 2, 'assists': 1, 'deaths': True},\n",
    "        'Blaze': {'kills': 1, 'assists': 0, 'deaths': False},\n",
    "        'Viper': {'kills': 1, 'assists': 2, 'deaths': True},\n",
    "        'Frost': {'kills': 0, 'assists': 1, 'deaths': False},\n",
    "        'Reaper': {'kills': 1, 'assists': 1, 'deaths': False}\n",
    "    },\n",
    "    {\n",
    "        'Shadow': {'kills': 0, 'assists': 2, 'deaths': False},\n",
    "        'Blaze': {'kills': 2, 'assists': 0, 'deaths': True},\n",
    "        'Viper': {'kills': 1, 'assists': 1, 'deaths': False},\n",
    "        'Frost': {'kills': 2, 'assists': 1, 'deaths': True},\n",
    "        'Reaper': {'kills': 0, 'assists': 1, 'deaths': False}\n",
    "    },\n",
    "    {\n",
    "        'Shadow': {'kills': 1, 'assists': 0, 'deaths': False},\n",
    "        'Blaze': {'kills': 2, 'assists': 2, 'deaths': True},\n",
    "        'Viper': {'kills': 1, 'assists': 1, 'deaths': True},\n",
    "        'Frost': {'kills': 0, 'assists': 1, 'deaths': False},\n",
    "        'Reaper': {'kills': 1, 'assists': 1, 'deaths': False}\n",
    "    },\n",
    "    {\n",
    "        'Shadow': {'kills': 2, 'assists': 1, 'deaths': False},\n",
    "        'Blaze': {'kills': 1, 'assists': 0, 'deaths': True},\n",
    "        'Viper': {'kills': 0, 'assists': 2, 'deaths': False},\n",
    "        'Frost': {'kills': 1, 'assists': 1, 'deaths': True},\n",
    "        'Reaper': {'kills': 1, 'assists': 1, 'deaths': False}\n",
    "    },\n",
    "    {\n",
    "        'Shadow': {'kills': 1, 'assists': 2, 'deaths': True},\n",
    "        'Blaze': {'kills': 0, 'assists': 1, 'deaths': False},\n",
    "        'Viper': {'kills': 2, 'assists': 0, 'deaths': True},\n",
    "        'Frost': {'kills': 1, 'assists': 1, 'deaths': False},\n",
    "        'Reaper': {'kills': 1, 'assists': 1, 'deaths': True}\n",
    "    }\n",
    "]"
   ]
  },
  {
   "cell_type": "markdown",
   "metadata": {},
   "source": [
    "Para resolver esta actividad generé un diccionario llamado **global_table** para mantener los estadisticas globales del juego por cada uno de los participantes"
   ]
  },
  {
   "cell_type": "code",
   "execution_count": 22,
   "metadata": {},
   "outputs": [],
   "source": [
    "global_table = {\n",
    "    'Shadow': {'kills': 0, 'assists': 0, 'deaths': 0, 'mvps': 0, 'points': 0},\n",
    "    'Blaze': {'kills': 0, 'assists': 0, 'deaths': 0, 'mvps': 0, 'points': 0},\n",
    "    'Viper': {'kills': 0, 'assists': 0, 'deaths': 0, 'mvps': 0, 'points': 0},\n",
    "    'Frost': {'kills': 0, 'assists': 0, 'deaths': 0, 'mvps': 0, 'points': 0},\n",
    "    'Reaper': {'kills': 0, 'assists': 0, 'deaths': 0, 'mvps': 0, 'points': 0}\n",
    "}"
   ]
  },
  {
   "cell_type": "markdown",
   "metadata": {},
   "source": [
    "Genero el path absoluto segun visto en video de explicación práctica para luego importar el modulo **game**"
   ]
  },
  {
   "cell_type": "code",
   "execution_count": 23,
   "metadata": {},
   "outputs": [],
   "source": [
    "import sys\n",
    "import os\n",
    "\n",
    "sys.path.append(os.path.abspath(\"../src\"))"
   ]
  },
  {
   "cell_type": "markdown",
   "metadata": {},
   "source": [
    "Luego, por cada ronda del juego imprimir los resultados de la misma y actualice la **global_table** para imprimirla al final. "
   ]
  },
  {
   "cell_type": "code",
   "execution_count": 24,
   "metadata": {},
   "outputs": [
    {
     "name": "stdout",
     "output_type": "stream",
     "text": [
      "\n",
      "Ranking ronda 1\n",
      "\n",
      " Jugador     Kills    Asistencias  Muertes      MVPs      Puntos  \n",
      "----------------------------------------------------------------------\n",
      "  Shadow       2          1          1          1          6     \n",
      "  Viper        1          2          1          0          4     \n",
      "  Reaper       1          1          0          0          4     \n",
      "  Blaze        1          0          0          0          3     \n",
      "  Frost        0          1          0          0          1     \n",
      "----------------------------------------------------------------------\n",
      "\n",
      "Ranking ronda 2\n",
      "\n",
      " Jugador     Kills    Asistencias  Muertes      MVPs      Puntos  \n",
      "----------------------------------------------------------------------\n",
      "  Frost        2          1          1          1          6     \n",
      "  Blaze        2          0          1          0          5     \n",
      "  Viper        1          1          0          0          4     \n",
      "  Shadow       0          2          0          0          2     \n",
      "  Reaper       0          1          0          0          1     \n",
      "----------------------------------------------------------------------\n",
      "\n",
      "Ranking ronda 3\n",
      "\n",
      " Jugador     Kills    Asistencias  Muertes      MVPs      Puntos  \n",
      "----------------------------------------------------------------------\n",
      "  Blaze        2          2          1          1          7     \n",
      "  Reaper       1          1          0          0          4     \n",
      "  Shadow       1          0          0          0          3     \n",
      "  Viper        1          1          1          0          3     \n",
      "  Frost        0          1          0          0          1     \n",
      "----------------------------------------------------------------------\n",
      "\n",
      "Ranking ronda 4\n",
      "\n",
      " Jugador     Kills    Asistencias  Muertes      MVPs      Puntos  \n",
      "----------------------------------------------------------------------\n",
      "  Shadow       2          1          0          1          7     \n",
      "  Reaper       1          1          0          0          4     \n",
      "  Frost        1          1          1          0          3     \n",
      "  Blaze        1          0          1          0          2     \n",
      "  Viper        0          2          0          0          2     \n",
      "----------------------------------------------------------------------\n",
      "\n",
      "Ranking ronda 5\n",
      "\n",
      " Jugador     Kills    Asistencias  Muertes      MVPs      Puntos  \n",
      "----------------------------------------------------------------------\n",
      "  Viper        2          0          1          1          5     \n",
      "  Shadow       1          2          1          0          4     \n",
      "  Frost        1          1          0          0          4     \n",
      "  Reaper       1          1          1          0          3     \n",
      "  Blaze        0          1          0          0          1     \n",
      "----------------------------------------------------------------------\n",
      "\n",
      "Ranking ronda Final\n",
      "\n",
      " Jugador     Kills    Asistencias  Muertes      MVPs      Puntos  \n",
      "----------------------------------------------------------------------\n",
      "  Shadow       6          6          2          2          22    \n",
      "  Blaze        6          3          3          1          18    \n",
      "  Viper        5          6          3          1          18    \n",
      "  Reaper       4          5          1          0          16    \n",
      "  Frost        4          5          2          1          15    \n",
      "----------------------------------------------------------------------\n"
     ]
    }
   ],
   "source": [
    "import game\n",
    "\n",
    "#Variable para llevar un conteo de las rondas de juego\n",
    "round_number = 0\n",
    "\n",
    "#Recorre las rondas para imprimir sus resultados\n",
    "for round in rounds:\n",
    "    round_number += 1\n",
    "    game.round_stats(round, round_number, global_table)\n",
    "\n",
    "#Se imprime la tabla final de resultados\n",
    "game.print_global_table(global_table)"
   ]
  },
  {
   "cell_type": "markdown",
   "metadata": {},
   "source": [
    "### Módulo GAME\n",
    "El módulo **game** tiene las siguientes funciones:"
   ]
  },
  {
   "cell_type": "markdown",
   "metadata": {},
   "source": [
    "Se define constante para almacenar los puntos que asigna el juego a cada acción"
   ]
  },
  {
   "cell_type": "code",
   "execution_count": 21,
   "metadata": {},
   "outputs": [],
   "source": [
    "# Puntaje definido para cada una de las acciones\n",
    "POINTS = {\"kills\": 3, \"assists\": 1, \"deaths\": -1}"
   ]
  },
  {
   "cell_type": "markdown",
   "metadata": {},
   "source": [
    "Se define una función que arma el encabezado de cada tabla"
   ]
  },
  {
   "cell_type": "code",
   "execution_count": 22,
   "metadata": {},
   "outputs": [],
   "source": [
    "# Imprime el encabezado de la tabla de clasificación\n",
    "def print_header(round_number):\n",
    "    print(f\"\\nRanking ronda {round_number}\")\n",
    "    print(f\"\\n{\"Jugador\":^10} {\"Kills\":^10} {\"Asistencias\":^10} {\"Muertes\":^10} {\"MVPs\":^10} {\"Puntos\":^10}\")\n",
    "    print(\"-\"*70)"
   ]
  },
  {
   "cell_type": "markdown",
   "metadata": {},
   "source": [
    "Se define una función que recibe un diccionario con los datos de la ronda por c/jugador y segun sus acciones se genera un puntaje."
   ]
  },
  {
   "cell_type": "code",
   "execution_count": null,
   "metadata": {},
   "outputs": [],
   "source": [
    "# Calcula los puntos de cada jugador en la ronda\n",
    "def calculate_points(round_table):\n",
    "    for player in round_table:\n",
    "        round_table[player][\"points\"] = round_table[player].get(\"kills\") * POINTS.get(\"kills\") + \\\n",
    "            round_table[player].get(\"assists\") * POINTS.get(\"assists\") + \\\n",
    "            round_table[player].get(\"deaths\") * POINTS.get(\"deaths\")"
   ]
  },
  {
   "cell_type": "markdown",
   "metadata": {},
   "source": [
    "Se define una función que recine un diccionario con las datos de la ronda por cada jugador y determina el que tiene el mayor nro. de puntos. Luego establece un 1 en la columna de *MVP*."
   ]
  },
  {
   "cell_type": "markdown",
   "metadata": {},
   "source": [
    "Para determinar el máx, utilice \n",
    "* max(iterable, key=func): Busca el valor máximo en iterable basado en el criterio definido en key=func\n",
    "  \n",
    "Lo cual itera sobre los nombres de los jugadores de round_table, comparando sus puntos "
   ]
  },
  {
   "cell_type": "code",
   "execution_count": null,
   "metadata": {},
   "outputs": [],
   "source": [
    "# Determina el mejor jugador de la ronda\n",
    "def determine_mvp(round_table):\n",
    "    mvp = max(round_table, key=lambda x: round_table[x][\"points\"])\n",
    "    round_table[mvp][\"mvps\"] = 1"
   ]
  },
  {
   "cell_type": "markdown",
   "metadata": {},
   "source": [
    "Esta función define un diccionario (round_table) para almacenar por cada jugador el resultado de la ronda. A las muertes, que vienen originalmente con true/false se las mapeo con 1 y 0, correspondientemente. Luego, se utilizan las funciones para calcular los puntos y determinar el mvp."
   ]
  },
  {
   "cell_type": "code",
   "execution_count": null,
   "metadata": {},
   "outputs": [],
   "source": [
    "# Resume en una tabla los datos de la ronda\n",
    "def round_resume(round):\n",
    "    round_table = {}\n",
    "    \n",
    "    for player in round:\n",
    "        round_table[player] = {\n",
    "            \"kills\": round[player].get(\"kills\"),\n",
    "            \"assists\": round[player].get(\"assists\"),\n",
    "            \"deaths\": 1 if round[player].get(\"deaths\") == True else 0,\n",
    "            \"mvps\": 0,\n",
    "            \"points\": 0\n",
    "        }\n",
    "        \n",
    "    calculate_points(round_table)\n",
    "    determine_mvp(round_table)\n",
    "    \n",
    "    return round_table"
   ]
  },
  {
   "cell_type": "markdown",
   "metadata": {},
   "source": [
    "Acumula los datos de cada ronda en la tabla global"
   ]
  },
  {
   "cell_type": "code",
   "execution_count": null,
   "metadata": {},
   "outputs": [],
   "source": [
    "# Actualiza la tabla global con los datos de la ronda\n",
    "def update_global_table(global_table, round_table):\n",
    "    for player in global_table:\n",
    "        global_table[player][\"kills\"] += round_table[player][\"kills\"]\n",
    "        global_table[player][\"assists\"] += round_table[player][\"assists\"]\n",
    "        global_table[player][\"deaths\"] += round_table[player][\"deaths\"]\n",
    "        global_table[player][\"mvps\"] += round_table[player][\"mvps\"]\n",
    "        global_table[player][\"points\"] += round_table[player][\"points\"]"
   ]
  },
  {
   "cell_type": "markdown",
   "metadata": {},
   "source": [
    "Esta función primero ordena con el metodo **sorted()** los items de la round_table, que es cada jugador con sus estadisticas, según su puntaje de mayor a menor. A cada tmb, se vuevle a usar el argumento de la key. Luego se imprime por pantalla el jugador y sus estadísticas. Por ultimo, se imprime una línea final para separar cada ronda."
   ]
  },
  {
   "cell_type": "code",
   "execution_count": null,
   "metadata": {},
   "outputs": [],
   "source": [
    "# Imprime la tabla de la ronda\n",
    "def print_round_table(round_table):\n",
    "    round_table_sorted = sorted(\n",
    "        round_table.items(), key=lambda x: x[1][\"points\"], reverse=True)\n",
    "    \n",
    "    for player, stats in round_table_sorted:\n",
    "        print(f\"{player:^10} {stats.get('kills'):^10} {stats.get('assists'):^10} {stats.get('deaths'):^10} {stats.get('mvps'):^10} {stats.get('points'):^10}\")\n",
    "    \n",
    "    print(\"-\"*70)"
   ]
  },
  {
   "cell_type": "markdown",
   "metadata": {},
   "source": [
    "Esta función llama a la cabecera de la tabla, genera la tabla de la ronda, llama a actualizar la tabla global e imprime la tabla de la ronda."
   ]
  },
  {
   "cell_type": "code",
   "execution_count": null,
   "metadata": {},
   "outputs": [],
   "source": [
    "# Genera las estadísticas de la ronda y la imprime\n",
    "def round_stats(round, round_number, global_table):\n",
    "\n",
    "    print_header(round_number)\n",
    "    round_table = round_resume(round)\n",
    "    update_global_table(global_table, round_table)\n",
    "    print_round_table(round_table)"
   ]
  },
  {
   "cell_type": "markdown",
   "metadata": {},
   "source": [
    "Imprime la tabla global, llamando a la cabecera con el paramentro **\"Final\"** e llama a imprimir la tabla. "
   ]
  },
  {
   "cell_type": "code",
   "execution_count": null,
   "metadata": {},
   "outputs": [],
   "source": [
    "# Imprime la tabla global\n",
    "def print_global_table(global_table):\n",
    "\n",
    "    print_header(\"Final\")\n",
    "    print_round_table(global_table)"
   ]
  }
 ],
 "metadata": {
  "kernelspec": {
   "display_name": "Python 3 (ipykernel)",
   "language": "python",
   "name": "python3"
  },
  "language_info": {
   "codemirror_mode": {
    "name": "ipython",
    "version": 3
   },
   "file_extension": ".py",
   "mimetype": "text/x-python",
   "name": "python",
   "nbconvert_exporter": "python",
   "pygments_lexer": "ipython3",
   "version": "3.12.9"
  }
 },
 "nbformat": 4,
 "nbformat_minor": 4
}
